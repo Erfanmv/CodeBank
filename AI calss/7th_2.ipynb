{
 "cells": [
  {
   "cell_type": "code",
   "execution_count": 1,
   "metadata": {},
   "outputs": [
    {
     "data": {
      "text/html": [
       "<div>\n",
       "<style scoped>\n",
       "    .dataframe tbody tr th:only-of-type {\n",
       "        vertical-align: middle;\n",
       "    }\n",
       "\n",
       "    .dataframe tbody tr th {\n",
       "        vertical-align: top;\n",
       "    }\n",
       "\n",
       "    .dataframe thead th {\n",
       "        text-align: right;\n",
       "    }\n",
       "</style>\n",
       "<table border=\"1\" class=\"dataframe\">\n",
       "  <thead>\n",
       "    <tr style=\"text-align: right;\">\n",
       "      <th></th>\n",
       "      <th>Rank</th>\n",
       "      <th>Name</th>\n",
       "      <th>Platform</th>\n",
       "      <th>Year</th>\n",
       "      <th>Genre</th>\n",
       "      <th>Publisher</th>\n",
       "      <th>NA_Sales</th>\n",
       "      <th>EU_Sales</th>\n",
       "      <th>JP_Sales</th>\n",
       "      <th>Other_Sales</th>\n",
       "      <th>Global_Sales</th>\n",
       "    </tr>\n",
       "  </thead>\n",
       "  <tbody>\n",
       "    <tr>\n",
       "      <th>0</th>\n",
       "      <td>13132</td>\n",
       "      <td>Sea Monsters: A Prehistoric Adventure</td>\n",
       "      <td>Wii</td>\n",
       "      <td>2007</td>\n",
       "      <td>Adventure</td>\n",
       "      <td>Zushi Games</td>\n",
       "      <td>0.04</td>\n",
       "      <td>0.00</td>\n",
       "      <td>0.00</td>\n",
       "      <td>0.00</td>\n",
       "      <td>0.05</td>\n",
       "    </tr>\n",
       "    <tr>\n",
       "      <th>1</th>\n",
       "      <td>5211</td>\n",
       "      <td>North American Hunting Extravaganza</td>\n",
       "      <td>Wii</td>\n",
       "      <td>2008</td>\n",
       "      <td>Sports</td>\n",
       "      <td>Zushi Games</td>\n",
       "      <td>0.33</td>\n",
       "      <td>0.00</td>\n",
       "      <td>0.00</td>\n",
       "      <td>0.03</td>\n",
       "      <td>0.36</td>\n",
       "    </tr>\n",
       "    <tr>\n",
       "      <th>2</th>\n",
       "      <td>9653</td>\n",
       "      <td>Adventures to Go!</td>\n",
       "      <td>PSP</td>\n",
       "      <td>2008</td>\n",
       "      <td>Role-Playing</td>\n",
       "      <td>Zushi Games</td>\n",
       "      <td>0.10</td>\n",
       "      <td>0.00</td>\n",
       "      <td>0.01</td>\n",
       "      <td>0.01</td>\n",
       "      <td>0.13</td>\n",
       "    </tr>\n",
       "    <tr>\n",
       "      <th>3</th>\n",
       "      <td>12886</td>\n",
       "      <td>Defendin' De Penguin</td>\n",
       "      <td>Wii</td>\n",
       "      <td>2008</td>\n",
       "      <td>Strategy</td>\n",
       "      <td>Zushi Games</td>\n",
       "      <td>0.05</td>\n",
       "      <td>0.00</td>\n",
       "      <td>0.00</td>\n",
       "      <td>0.00</td>\n",
       "      <td>0.05</td>\n",
       "    </tr>\n",
       "    <tr>\n",
       "      <th>4</th>\n",
       "      <td>15429</td>\n",
       "      <td>Defendin' De Penguin</td>\n",
       "      <td>DS</td>\n",
       "      <td>2008</td>\n",
       "      <td>Strategy</td>\n",
       "      <td>Zushi Games</td>\n",
       "      <td>0.02</td>\n",
       "      <td>0.00</td>\n",
       "      <td>0.00</td>\n",
       "      <td>0.00</td>\n",
       "      <td>0.02</td>\n",
       "    </tr>\n",
       "    <tr>\n",
       "      <th>...</th>\n",
       "      <td>...</td>\n",
       "      <td>...</td>\n",
       "      <td>...</td>\n",
       "      <td>...</td>\n",
       "      <td>...</td>\n",
       "      <td>...</td>\n",
       "      <td>...</td>\n",
       "      <td>...</td>\n",
       "      <td>...</td>\n",
       "      <td>...</td>\n",
       "      <td>...</td>\n",
       "    </tr>\n",
       "    <tr>\n",
       "      <th>16319</th>\n",
       "      <td>13059</td>\n",
       "      <td>Men of War: Assault Squad</td>\n",
       "      <td>PC</td>\n",
       "      <td>2011</td>\n",
       "      <td>Strategy</td>\n",
       "      <td>1C Company</td>\n",
       "      <td>0.01</td>\n",
       "      <td>0.03</td>\n",
       "      <td>0.00</td>\n",
       "      <td>0.01</td>\n",
       "      <td>0.05</td>\n",
       "    </tr>\n",
       "    <tr>\n",
       "      <th>16320</th>\n",
       "      <td>13726</td>\n",
       "      <td>Off-Road Drive</td>\n",
       "      <td>PC</td>\n",
       "      <td>2011</td>\n",
       "      <td>Racing</td>\n",
       "      <td>1C Company</td>\n",
       "      <td>0.00</td>\n",
       "      <td>0.03</td>\n",
       "      <td>0.00</td>\n",
       "      <td>0.01</td>\n",
       "      <td>0.04</td>\n",
       "    </tr>\n",
       "    <tr>\n",
       "      <th>16321</th>\n",
       "      <td>15709</td>\n",
       "      <td>Pirates: Legend of the Black Buccaneer</td>\n",
       "      <td>PS2</td>\n",
       "      <td>2006</td>\n",
       "      <td>Adventure</td>\n",
       "      <td>10TACLE Studios</td>\n",
       "      <td>0.01</td>\n",
       "      <td>0.01</td>\n",
       "      <td>0.00</td>\n",
       "      <td>0.00</td>\n",
       "      <td>0.02</td>\n",
       "    </tr>\n",
       "    <tr>\n",
       "      <th>16322</th>\n",
       "      <td>12351</td>\n",
       "      <td>Panzer Tactics</td>\n",
       "      <td>DS</td>\n",
       "      <td>2007</td>\n",
       "      <td>Strategy</td>\n",
       "      <td>10TACLE Studios</td>\n",
       "      <td>0.06</td>\n",
       "      <td>0.00</td>\n",
       "      <td>0.00</td>\n",
       "      <td>0.00</td>\n",
       "      <td>0.06</td>\n",
       "    </tr>\n",
       "    <tr>\n",
       "      <th>16323</th>\n",
       "      <td>14132</td>\n",
       "      <td>Boulder Dash: Rocks!</td>\n",
       "      <td>DS</td>\n",
       "      <td>2007</td>\n",
       "      <td>Puzzle</td>\n",
       "      <td>10TACLE Studios</td>\n",
       "      <td>0.00</td>\n",
       "      <td>0.03</td>\n",
       "      <td>0.00</td>\n",
       "      <td>0.00</td>\n",
       "      <td>0.03</td>\n",
       "    </tr>\n",
       "  </tbody>\n",
       "</table>\n",
       "<p>16324 rows × 11 columns</p>\n",
       "</div>"
      ],
      "text/plain": [
       "        Rank                                    Name Platform  Year  \\\n",
       "0      13132   Sea Monsters: A Prehistoric Adventure      Wii  2007   \n",
       "1       5211     North American Hunting Extravaganza      Wii  2008   \n",
       "2       9653                       Adventures to Go!      PSP  2008   \n",
       "3      12886                    Defendin' De Penguin      Wii  2008   \n",
       "4      15429                    Defendin' De Penguin       DS  2008   \n",
       "...      ...                                     ...      ...   ...   \n",
       "16319  13059               Men of War: Assault Squad       PC  2011   \n",
       "16320  13726                          Off-Road Drive       PC  2011   \n",
       "16321  15709  Pirates: Legend of the Black Buccaneer      PS2  2006   \n",
       "16322  12351                          Panzer Tactics       DS  2007   \n",
       "16323  14132                    Boulder Dash: Rocks!       DS  2007   \n",
       "\n",
       "              Genre        Publisher  NA_Sales  EU_Sales  JP_Sales  \\\n",
       "0         Adventure      Zushi Games      0.04      0.00      0.00   \n",
       "1            Sports      Zushi Games      0.33      0.00      0.00   \n",
       "2      Role-Playing      Zushi Games      0.10      0.00      0.01   \n",
       "3          Strategy      Zushi Games      0.05      0.00      0.00   \n",
       "4          Strategy      Zushi Games      0.02      0.00      0.00   \n",
       "...             ...              ...       ...       ...       ...   \n",
       "16319      Strategy       1C Company      0.01      0.03      0.00   \n",
       "16320        Racing       1C Company      0.00      0.03      0.00   \n",
       "16321     Adventure  10TACLE Studios      0.01      0.01      0.00   \n",
       "16322      Strategy  10TACLE Studios      0.06      0.00      0.00   \n",
       "16323        Puzzle  10TACLE Studios      0.00      0.03      0.00   \n",
       "\n",
       "       Other_Sales  Global_Sales  \n",
       "0             0.00          0.05  \n",
       "1             0.03          0.36  \n",
       "2             0.01          0.13  \n",
       "3             0.00          0.05  \n",
       "4             0.00          0.02  \n",
       "...            ...           ...  \n",
       "16319         0.01          0.05  \n",
       "16320         0.01          0.04  \n",
       "16321         0.00          0.02  \n",
       "16322         0.00          0.06  \n",
       "16323         0.00          0.03  \n",
       "\n",
       "[16324 rows x 11 columns]"
      ]
     },
     "execution_count": 1,
     "metadata": {},
     "output_type": "execute_result"
    }
   ],
   "source": [
    "import pandas as pd\n",
    "import matplotlib.pyplot as plt\n",
    "import numpy as np\n",
    "import seaborn as sb\n",
    "data =  pd.read_csv('vgsales.csv')\n",
    "\n",
    "data\n"
   ]
  },
  {
   "cell_type": "code",
   "execution_count": 2,
   "metadata": {},
   "outputs": [
    {
     "data": {
      "text/plain": [
       "Rank             0\n",
       "Name             0\n",
       "Platform         0\n",
       "Year             0\n",
       "Genre            0\n",
       "Publisher       36\n",
       "NA_Sales         0\n",
       "EU_Sales         0\n",
       "JP_Sales         0\n",
       "Other_Sales      0\n",
       "Global_Sales     0\n",
       "dtype: int64"
      ]
     },
     "execution_count": 2,
     "metadata": {},
     "output_type": "execute_result"
    }
   ],
   "source": [
    "data.isnull().sum()"
   ]
  },
  {
   "cell_type": "code",
   "execution_count": 3,
   "metadata": {},
   "outputs": [
    {
     "data": {
      "text/plain": [
       "<bound method NDFrame._add_numeric_operations.<locals>.sum of         Rank   Name  Platform   Year  Genre  Publisher  NA_Sales  EU_Sales  \\\n",
       "0      False  False     False  False  False      False     False     False   \n",
       "1      False  False     False  False  False      False     False     False   \n",
       "2      False  False     False  False  False      False     False     False   \n",
       "3      False  False     False  False  False      False     False     False   \n",
       "4      False  False     False  False  False      False     False     False   \n",
       "...      ...    ...       ...    ...    ...        ...       ...       ...   \n",
       "16319  False  False     False  False  False      False     False     False   \n",
       "16320  False  False     False  False  False      False     False     False   \n",
       "16321  False  False     False  False  False      False     False     False   \n",
       "16322  False  False     False  False  False      False     False     False   \n",
       "16323  False  False     False  False  False      False     False     False   \n",
       "\n",
       "       JP_Sales  Other_Sales  Global_Sales  \n",
       "0         False        False         False  \n",
       "1         False        False         False  \n",
       "2         False        False         False  \n",
       "3         False        False         False  \n",
       "4         False        False         False  \n",
       "...         ...          ...           ...  \n",
       "16319     False        False         False  \n",
       "16320     False        False         False  \n",
       "16321     False        False         False  \n",
       "16322     False        False         False  \n",
       "16323     False        False         False  \n",
       "\n",
       "[16288 rows x 11 columns]>"
      ]
     },
     "execution_count": 3,
     "metadata": {},
     "output_type": "execute_result"
    }
   ],
   "source": [
    "df = data.dropna()\n",
    "df.isnull().sum\n"
   ]
  },
  {
   "cell_type": "code",
   "execution_count": 4,
   "metadata": {},
   "outputs": [
    {
     "name": "stderr",
     "output_type": "stream",
     "text": [
      "C:\\Users\\erfan\\AppData\\Local\\Temp\\ipykernel_3644\\3211426888.py:3: SettingWithCopyWarning: \n",
      "A value is trying to be set on a copy of a slice from a DataFrame\n",
      "\n",
      "See the caveats in the documentation: https://pandas.pydata.org/pandas-docs/stable/user_guide/indexing.html#returning-a-view-versus-a-copy\n",
      "  df.rename(index=df.Rank,inplace=True)\n"
     ]
    }
   ],
   "source": [
    "df.shape\n",
    "df.duplicated().sum()\n",
    "df.rename(index=df.Rank,inplace=True)\n",
    "df = df.drop(['Rank'],axis=1)\n",
    "df_gn = df.groupby('Genre').count()\n"
   ]
  },
  {
   "cell_type": "code",
   "execution_count": 5,
   "metadata": {},
   "outputs": [
    {
     "data": {
      "image/png": "[encoded data removed]",
      "text/plain": [
       "<Figure size 432x288 with 1 Axes>"
      ]
     },
     "metadata": {},
     "output_type": "display_data"
    }
   ],
   "source": [
    "plt.pie(df_gn['Global_Sales'],labels= df_gn.index,autopct='%0.2f%%',radius=1.5)\n",
    "plt.show()"
   ]
  },
  {
   "cell_type": "code",
   "execution_count": 26,
   "metadata": {},
   "outputs": [
    {
     "data": {
      "text/plain": [
       "(array([   9.,    0.,   46.,    0.,   36.,    0.,   17.,    0.,   14.,\n",
       "           0.,   14.,    0.,   21.,    0.,   16.,    0.,   15.,    0.,\n",
       "          17.,    0.,   16.,    0.,   41.,    0.,   43.,    0.,   60.,\n",
       "           0.,  121.,    0.,  219.,    0.,  263.,    0.,  289.,    0.,\n",
       "         379.,    0.,  338.,    0.,  349.,    0.,  482.,    0.,  828.,\n",
       "           0.,  775.,    0.,  744.,    0.,  936.,    0., 1008.,    0.,\n",
       "        1201.,    0., 1428.,    0., 1433.,    0., 1257.,    0., 1136.,\n",
       "           0.,  655.,    0.,  546.,    0.,  580.,    0.,  614.,    0.,\n",
       "         342.]),\n",
       " array([1980.        , 1980.49315068, 1980.98630137, 1981.47945205,\n",
       "        1981.97260274, 1982.46575342, 1982.95890411, 1983.45205479,\n",
       "        1983.94520548, 1984.43835616, 1984.93150685, 1985.42465753,\n",
       "        1985.91780822, 1986.4109589 , 1986.90410959, 1987.39726027,\n",
       "        1987.89041096, 1988.38356164, 1988.87671233, 1989.36986301,\n",
       "        1989.8630137 , 1990.35616438, 1990.84931507, 1991.34246575,\n",
       "        1991.83561644, 1992.32876712, 1992.82191781, 1993.31506849,\n",
       "        1993.80821918, 1994.30136986, 1994.79452055, 1995.28767123,\n",
       "        1995.78082192, 1996.2739726 , 1996.76712329, 1997.26027397,\n",
       "        1997.75342466, 1998.24657534, 1998.73972603, 1999.23287671,\n",
       "        1999.7260274 , 2000.21917808, 2000.71232877, 2001.20547945,\n",
       "        2001.69863014, 2002.19178082, 2002.68493151, 2003.17808219,\n",
       "        2003.67123288, 2004.16438356, 2004.65753425, 2005.15068493,\n",
       "        2005.64383562, 2006.1369863 , 2006.63013699, 2007.12328767,\n",
       "        2007.61643836, 2008.10958904, 2008.60273973, 2009.09589041,\n",
       "        2009.5890411 , 2010.08219178, 2010.57534247, 2011.06849315,\n",
       "        2011.56164384, 2012.05479452, 2012.54794521, 2013.04109589,\n",
       "        2013.53424658, 2014.02739726, 2014.52054795, 2015.01369863,\n",
       "        2015.50684932, 2016.        ]),\n",
       " <BarContainer object of 73 artists>)"
      ]
     },
     "execution_count": 26,
     "metadata": {},
     "output_type": "execute_result"
    },
    {
     "data": {
      "image/png": "[encoded data removed]",
      "text/plain": [
       "<Figure size 432x288 with 1 Axes>"
      ]
     },
     "metadata": {
      "needs_background": "light"
     },
     "output_type": "display_data"
    }
   ],
   "source": [
    "\n",
    "plt.hist(df['Year'] ,bins=73)\n"
   ]
  }
 ],
 "metadata": {
  "kernelspec": {
   "display_name": "Python 3",
   "language": "python",
   "name": "python3"
  },
  "language_info": {
   "codemirror_mode": {
    "name": "ipython",
    "version": 3
   },
   "file_extension": ".py",
   "mimetype": "text/x-python",
   "name": "python",
   "nbconvert_exporter": "python",
   "pygments_lexer": "ipython3",
   "version": "3.11.0"
  }
 },
 "nbformat": 4,
 "nbformat_minor": 2
}
