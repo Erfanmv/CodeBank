{
 "cells": [
  {
   "cell_type": "markdown",
   "metadata": {},
   "source": [
    "import numpy liberry and version check"
   ]
  },
  {
   "cell_type": "code",
   "execution_count": 1,
   "metadata": {},
   "outputs": [
    {
     "name": "stdout",
     "output_type": "stream",
     "text": [
      "1.23.5\n"
     ]
    }
   ],
   "source": [
    "import numpy as np\n",
    "print(np.__version__)"
   ]
  },
  {
   "cell_type": "code",
   "execution_count": 2,
   "metadata": {},
   "outputs": [],
   "source": [
    "a1 = [[1.2],[3,4],[5,6]]\n",
    "a = np.array([[1,2],[3,4],[5,6]])\n",
    "b = np.array([[[1,2],[3,4],[5,6]],[[1,2],[3,4],[5,6]]])\n",
    "c = np.array([43])\n",
    "d = np.array([1,2,3,4])"
   ]
  },
  {
   "cell_type": "code",
   "execution_count": 3,
   "metadata": {},
   "outputs": [
    {
     "name": "stdout",
     "output_type": "stream",
     "text": [
      "2\n",
      "---------- Number of array dimensions.\n",
      "(3, 2)\n",
      "----------\n",
      "6\n",
      "----------\n",
      "int32\n",
      "----------\n",
      "4\n",
      "----------\n",
      "24\n",
      "----------\n",
      "<memory at 0x00000192FE7FE670>\n",
      "----------\n",
      "(8, 4)\n",
      "----------\n",
      "[[1 3 5]\n",
      " [2 4 6]]\n"
     ]
    }
   ],
   "source": [
    "print(a.ndim)\n",
    "print(\"-\"*10 , 'Number of array dimensions.')\n",
    "print(a.shape)\n",
    "print(\"-\"*10, 'Return the shape of an array.')\n",
    "print(a.size)\n",
    "print(\"-\"*10)\n",
    "print(a.dtype)\n",
    "print(\"-\"*10)\n",
    "print(a.itemsize)\n",
    "print(\"-\"*10)\n",
    "print(a.nbytes)\n",
    "print(\"-\"*10)\n",
    "print(a.data)\n",
    "print(\"-\"*10)\n",
    "print(a.strides)\n",
    "print(\"-\"*10)\n",
    "print(a.T)"
   ]
  },
  {
   "cell_type": "code",
   "execution_count": 10,
   "metadata": {},
   "outputs": [
    {
     "name": "stdout",
     "output_type": "stream",
     "text": [
      "3\n",
      "----------\n",
      "(2, 3, 2)\n",
      "----------\n",
      "12\n"
     ]
    }
   ],
   "source": [
    "print(b.ndim)\n",
    "print(\"-\"*10)\n",
    "print(b.shape)\n",
    "print(\"-\"*10)\n",
    "print(b.size)"
   ]
  },
  {
   "cell_type": "code",
   "execution_count": 11,
   "metadata": {},
   "outputs": [
    {
     "name": "stdout",
     "output_type": "stream",
     "text": [
      "1\n",
      "----------\n",
      "(1,)\n",
      "----------\n",
      "1\n"
     ]
    }
   ],
   "source": [
    "print(c.ndim)\n",
    "print(\"-\"*10)\n",
    "print(c.shape)\n",
    "print(\"-\"*10)\n",
    "print(c.size)"
   ]
  },
  {
   "cell_type": "code",
   "execution_count": 12,
   "metadata": {},
   "outputs": [
    {
     "name": "stdout",
     "output_type": "stream",
     "text": [
      "[[1 2 3 4]]\n"
     ]
    }
   ],
   "source": [
    "e = np.array([1,2,3,4],ndmin = 2)\n",
    "print(e)"
   ]
  },
  {
   "cell_type": "code",
   "execution_count": 13,
   "metadata": {},
   "outputs": [
    {
     "name": "stdout",
     "output_type": "stream",
     "text": [
      "20\n",
      "[30 40 50 60]\n",
      "[10 20 30]\n",
      "[10 30 50]\n"
     ]
    }
   ],
   "source": [
    "arr = np.array([10,20,30,40,50,60])\n",
    "print(arr[1])\n",
    "print(arr[2:])\n",
    "print(arr[:3])\n",
    "#line itrited 2 by 2\n",
    "print(arr[0::2])"
   ]
  },
  {
   "cell_type": "code",
   "execution_count": null,
   "metadata": {},
   "outputs": [],
   "source": []
  }
 ],
 "metadata": {
  "kernelspec": {
   "display_name": "Python 3",
   "language": "python",
   "name": "python3"
  },
  "language_info": {
   "codemirror_mode": {
    "name": "ipython",
    "version": 3
   },
   "file_extension": ".py",
   "mimetype": "text/x-python",
   "name": "python",
   "nbconvert_exporter": "python",
   "pygments_lexer": "ipython3",
   "version": "3.11.0"
  }
 },
 "nbformat": 4,
 "nbformat_minor": 2
}
