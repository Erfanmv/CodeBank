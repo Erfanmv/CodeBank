{
 "cells": [
  {
   "cell_type": "code",
   "execution_count": 6,
   "metadata": {},
   "outputs": [
    {
     "name": "stdout",
     "output_type": "stream",
     "text": [
      "<class 'pandas.core.frame.DataFrame'>\n",
      "RangeIndex: 367 entries, 0 to 366\n",
      "Data columns (total 7 columns):\n",
      " #   Column     Non-Null Count  Dtype  \n",
      "---  ------     --------------  -----  \n",
      " 0   Date       367 non-null    object \n",
      " 1   Open       367 non-null    float64\n",
      " 2   High       367 non-null    float64\n",
      " 3   Low        367 non-null    float64\n",
      " 4   Close      367 non-null    float64\n",
      " 5   Adj Close  367 non-null    float64\n",
      " 6   Volume     367 non-null    int64  \n",
      "dtypes: float64(5), int64(1), object(1)\n",
      "memory usage: 20.2+ KB\n"
     ]
    }
   ],
   "source": [
    "import pandas as pd \n",
    "import matplotlib.pyplot as plt\n",
    "df  = pd.read_csv('BTC-USD.csv')\n",
    "df.info()\n"
   ]
  },
  {
   "cell_type": "code",
   "execution_count": 4,
   "metadata": {},
   "outputs": [
    {
     "data": {
      "text/html": [
       "<div>\n",
       "<style scoped>\n",
       "    .dataframe tbody tr th:only-of-type {\n",
       "        vertical-align: middle;\n",
       "    }\n",
       "\n",
       "    .dataframe tbody tr th {\n",
       "        vertical-align: top;\n",
       "    }\n",
       "\n",
       "    .dataframe thead th {\n",
       "        text-align: right;\n",
       "    }\n",
       "</style>\n",
       "<table border=\"1\" class=\"dataframe\">\n",
       "  <thead>\n",
       "    <tr style=\"text-align: right;\">\n",
       "      <th></th>\n",
       "      <th>Date</th>\n",
       "      <th>Open</th>\n",
       "      <th>High</th>\n",
       "      <th>Low</th>\n",
       "      <th>Close</th>\n",
       "      <th>Adj Close</th>\n",
       "      <th>Volume</th>\n",
       "    </tr>\n",
       "  </thead>\n",
       "  <tbody>\n",
       "    <tr>\n",
       "      <th>0</th>\n",
       "      <td>2023-03-09</td>\n",
       "      <td>21720.080078</td>\n",
       "      <td>21802.716797</td>\n",
       "      <td>20210.306641</td>\n",
       "      <td>20363.021484</td>\n",
       "      <td>20363.021484</td>\n",
       "      <td>30364664171</td>\n",
       "    </tr>\n",
       "    <tr>\n",
       "      <th>1</th>\n",
       "      <td>2023-03-10</td>\n",
       "      <td>20367.001953</td>\n",
       "      <td>20370.595703</td>\n",
       "      <td>19628.253906</td>\n",
       "      <td>20187.244141</td>\n",
       "      <td>20187.244141</td>\n",
       "      <td>39578257695</td>\n",
       "    </tr>\n",
       "    <tr>\n",
       "      <th>2</th>\n",
       "      <td>2023-03-11</td>\n",
       "      <td>20187.876953</td>\n",
       "      <td>20792.525391</td>\n",
       "      <td>20068.660156</td>\n",
       "      <td>20632.410156</td>\n",
       "      <td>20632.410156</td>\n",
       "      <td>30180288176</td>\n",
       "    </tr>\n",
       "    <tr>\n",
       "      <th>3</th>\n",
       "      <td>2023-03-12</td>\n",
       "      <td>20628.029297</td>\n",
       "      <td>22185.031250</td>\n",
       "      <td>20448.806641</td>\n",
       "      <td>22163.949219</td>\n",
       "      <td>22163.949219</td>\n",
       "      <td>29279035521</td>\n",
       "    </tr>\n",
       "    <tr>\n",
       "      <th>4</th>\n",
       "      <td>2023-03-13</td>\n",
       "      <td>22156.406250</td>\n",
       "      <td>24550.837891</td>\n",
       "      <td>21918.199219</td>\n",
       "      <td>24197.533203</td>\n",
       "      <td>24197.533203</td>\n",
       "      <td>49466362688</td>\n",
       "    </tr>\n",
       "  </tbody>\n",
       "</table>\n",
       "</div>"
      ],
      "text/plain": [
       "         Date          Open          High           Low         Close  \\\n",
       "0  2023-03-09  21720.080078  21802.716797  20210.306641  20363.021484   \n",
       "1  2023-03-10  20367.001953  20370.595703  19628.253906  20187.244141   \n",
       "2  2023-03-11  20187.876953  20792.525391  20068.660156  20632.410156   \n",
       "3  2023-03-12  20628.029297  22185.031250  20448.806641  22163.949219   \n",
       "4  2023-03-13  22156.406250  24550.837891  21918.199219  24197.533203   \n",
       "\n",
       "      Adj Close       Volume  \n",
       "0  20363.021484  30364664171  \n",
       "1  20187.244141  39578257695  \n",
       "2  20632.410156  30180288176  \n",
       "3  22163.949219  29279035521  \n",
       "4  24197.533203  49466362688  "
      ]
     },
     "execution_count": 4,
     "metadata": {},
     "output_type": "execute_result"
    }
   ],
   "source": [
    "df.head()\n",
    "# df.info()\n",
    "# df.describe()"
   ]
  },
  {
   "cell_type": "code",
   "execution_count": 8,
   "metadata": {},
   "outputs": [
    {
     "name": "stdout",
     "output_type": "stream",
     "text": [
      "Month with the most benefit: March\n",
      "Month with the most loss: January\n"
     ]
    }
   ],
   "source": [
    "# Convert the 'Date' column to datetime format\n",
    "df['Date'] = pd.to_datetime(df['Date'])\n",
    "\n",
    "# Extract the month from the 'Date' column\n",
    "df['Month'] = df['Date'].dt.month\n",
    "\n",
    "# Calculate the monthly returns based on closing prices\n",
    "df['Monthly_Returns'] = df.groupby('Month')['Close'].pct_change()\n",
    "\n",
    "# Drop the rows with NaN values (first row of each month)\n",
    "df.dropna(subset=['Monthly_Returns'], inplace=True)\n",
    "\n",
    "# Find the month with the maximum positive return\n",
    "max_benefit_month = df.loc[df['Monthly_Returns'].idxmax(), 'Date'].strftime('%B')\n",
    "\n",
    "# Find the month with the maximum negative return\n",
    "max_loss_month = df.loc[df['Monthly_Returns'].idxmin(), 'Date'].strftime('%B')\n",
    "\n",
    "print(\"Month with the most benefit:\", max_benefit_month)\n",
    "print(\"Month with the most loss:\", max_loss_month)"
   ]
  },
  {
   "cell_type": "code",
   "execution_count": 9,
   "metadata": {},
   "outputs": [
    {
     "data": {
      "image/png": "[encoded data removed]",
      "text/plain": [
       "<Figure size 720x432 with 1 Axes>"
      ]
     },
     "metadata": {
      "needs_background": "light"
     },
     "output_type": "display_data"
    },
    {
     "name": "stdout",
     "output_type": "stream",
     "text": [
      "Best day of the week (highest average daily returns): Tuesday\n",
      "Worst day of the week (lowest average daily returns): Thursday\n"
     ]
    }
   ],
   "source": [
    "# Extract the day of the week from the 'Date' column (Monday=0, Sunday=6)\n",
    "df['Day_of_Week'] = df['Date'].dt.dayofweek\n",
    "\n",
    "# Calculate the daily returns based on closing prices\n",
    "df['Daily_Returns'] = df['Close'].pct_change()\n",
    "\n",
    "# Drop the rows with NaN values (first row of the dataframe)\n",
    "df.dropna(subset=['Daily_Returns'], inplace=True)\n",
    "\n",
    "# Calculate average daily returns for each day of the week\n",
    "average_returns_by_day = df.groupby('Day_of_Week')['Daily_Returns'].mean()\n",
    "\n",
    "# Define the days of the week\n",
    "days_of_week = ['Monday', 'Tuesday', 'Wednesday', 'Thursday', 'Friday', 'Saturday', 'Sunday']\n",
    "\n",
    "# Plotting the average daily returns\n",
    "plt.figure(figsize=(10, 6))\n",
    "average_returns_by_day.plot(kind='bar', color='skyblue')\n",
    "plt.title('Average Daily Returns by Day of the Week')\n",
    "plt.xlabel('Day of the Week')\n",
    "plt.ylabel('Average Daily Returns')\n",
    "plt.xticks(range(7), days_of_week, rotation=45)\n",
    "plt.grid(axis='y')\n",
    "plt.show()\n",
    "\n",
    "# Find the best and worst days of the week\n",
    "best_day = average_returns_by_day.idxmax()\n",
    "worst_day = average_returns_by_day.idxmin()\n",
    "\n",
    "print(\"Best day of the week (highest average daily returns):\", days_of_week[best_day])\n",
    "print(\"Worst day of the week (lowest average daily returns):\", days_of_week[worst_day])"
   ]
  },
  {
   "cell_type": "code",
   "execution_count": 10,
   "metadata": {},
   "outputs": [
    {
     "name": "stdout",
     "output_type": "stream",
     "text": [
      "Final assets at the end of 6 months: 3.7202340999639087e+217\n"
     ]
    }
   ],
   "source": [
    "# Set the 'Date' column as the index\n",
    "df.set_index('Date', inplace=True)\n",
    "\n",
    "# Extract the day of the week from the index (Monday=0, Sunday=6)\n",
    "df['Day_of_Week'] = df.index.dayofweek\n",
    "\n",
    "# Calculate the total number of days\n",
    "total_days = len(df)\n",
    "\n",
    "# Initialize variables\n",
    "assets = 0\n",
    "buy_day = 2  # Tuesday\n",
    "sell_day = 5  # Sunday\n",
    "\n",
    "# Simulate the trading strategy\n",
    "for i in range(total_days):\n",
    "    if df.iloc[i]['Day_of_Week'] == buy_day:\n",
    "        assets += 1 / df.iloc[i]['Open']  # Buy Bitcoin assets with all the money\n",
    "    elif df.iloc[i]['Day_of_Week'] == sell_day:\n",
    "        assets *= df.iloc[i]['Close']  # Sell all Bitcoin assets at the end of the 6th day\n",
    "\n",
    "# Convert assets to USD\n",
    "final_assets = assets * df.iloc[-1]['Close']\n",
    "\n",
    "print(\"Final assets at the end of 6 months:\", final_assets)"
   ]
  }
 ],
 "metadata": {
  "kernelspec": {
   "display_name": "Python 3",
   "language": "python",
   "name": "python3"
  },
  "language_info": {
   "codemirror_mode": {
    "name": "ipython",
    "version": 3
   },
   "file_extension": ".py",
   "mimetype": "text/x-python",
   "name": "python",
   "nbconvert_exporter": "python",
   "pygments_lexer": "ipython3",
   "version": "3.11.0"
  }
 },
 "nbformat": 4,
 "nbformat_minor": 2
}
