{
 "cells": [
  {
   "cell_type": "code",
   "execution_count": 1,
   "metadata": {},
   "outputs": [],
   "source": [
    "from scipy.stats import ttest_1samp\n",
    "import numpy as np\n"
   ]
  },
  {
   "cell_type": "code",
   "execution_count": 2,
   "metadata": {},
   "outputs": [
    {
     "data": {
      "text/plain": [
       "array([32., 34., 29., 29., 22., 39., 38., 37., 38., 36., 30., 26., 22.,\n",
       "       22.])"
      ]
     },
     "execution_count": 2,
     "metadata": {},
     "output_type": "execute_result"
    }
   ],
   "source": [
    "age = np.genfromtxt('ages.csv')\n",
    "age"
   ]
  },
  {
   "cell_type": "code",
   "execution_count": 3,
   "metadata": {},
   "outputs": [
    {
     "data": {
      "text/plain": [
       "31.0"
      ]
     },
     "execution_count": 3,
     "metadata": {},
     "output_type": "execute_result"
    }
   ],
   "source": [
    "age_mean = np.mean(age)\n",
    "age_mean"
   ]
  },
  {
   "cell_type": "code",
   "execution_count": 20,
   "metadata": {},
   "outputs": [
    {
     "name": "stdout",
     "output_type": "stream",
     "text": [
      "pvalues:  0.5605155888171379\n",
      "we are accept null hypothesis\n"
     ]
    }
   ],
   "source": [
    "tset , pval = ttest_1samp(age,30)\n",
    "\n",
    "print('pvalues: ', pval)\n",
    "if pval < 0.05: #if under 0.05 in rsulate your is have meanful diffrent from our H0 مقداذ فرضی\n",
    "    print('we are reject null hypothesis')\n",
    "else:\n",
    "    print('we are accept null hypothesis')"
   ]
  },
  {
   "cell_type": "code",
   "execution_count": 17,
   "metadata": {},
   "outputs": [
    {
     "name": "stdout",
     "output_type": "stream",
     "text": [
      "[23.90506824 26.67631982 27.27433886 24.25757125 32.40423483 39.56919357\n",
      " 23.07010059 29.82068109 27.59433809 28.05639569 27.06757262 30.41192979\n",
      " 25.71358554 24.94294823 28.23123807 24.95337555 18.51231639 27.46234762\n",
      " 28.38016611 13.91205901 29.02615866 26.90746774 22.8677726  24.8938289\n",
      " 25.96947935 26.86869621 20.72676456 27.35988314 20.68408581 21.19846143\n",
      " 16.25800931 23.92517681 24.47923229 29.47050863 27.28425372 26.93339272\n",
      " 28.61026924 18.88377042 33.65468651 25.69470077 20.98291356 22.69700387\n",
      " 28.60278855 21.36000443 30.77685156 20.83415999 23.79367158 19.7556718\n",
      " 29.54421084 20.1433138 ]\n",
      "[18.63431907 31.28788036 34.96797943 21.81678117 28.21619974 39.39313736\n",
      " 35.52223207 27.54222109 33.64395433 25.31673581 28.81392191 30.7358016\n",
      " 26.37241881 26.0945555  26.34073477 19.42196017 32.58797652 24.84001926\n",
      " 28.93348335 20.43667584 22.72495967 32.31728012 35.384306   29.66709637\n",
      " 24.53512973 30.91406007 19.56117513 24.90816833 30.13163726 31.47466199\n",
      " 27.77683598 16.51307462 35.0770162  31.74818107 36.36053496 27.70500593\n",
      " 29.49869936 27.65575346 37.18504075 25.16055104 29.26553553 38.22163057\n",
      " 28.92102091 24.8215439  38.30155495 34.76020645 22.26869162 28.82593733\n",
      " 32.00975127 36.46437665]\n"
     ]
    }
   ],
   "source": [
    "from scipy.stats import ttest_ind\n",
    "week1 =  np.genfromtxt(\"week1.csv\", delimiter=',')\n",
    "week2 =  np.genfromtxt(\"week2.csv\", delimiter=',')\n",
    "print(week1)\n",
    "print(week2)"
   ]
  },
  {
   "cell_type": "code",
   "execution_count": 19,
   "metadata": {},
   "outputs": [
    {
     "name": "stdout",
     "output_type": "stream",
     "text": [
      "pval:  0.000676767690454633\n",
      "we are reject null hypothesis\n"
     ]
    }
   ],
   "source": [
    "ttest , pval = ttest_ind(week1,week2)\n",
    "\n",
    "print('pval: ', pval)\n",
    "if pval < 0.05:\n",
    "    print('we are reject null hypothesis')\n",
    "else:\n",
    "    print('we are accept null hypothesis')"
   ]
  },
  {
   "cell_type": "code",
   "execution_count": 28,
   "metadata": {},
   "outputs": [
    {
     "name": "stdout",
     "output_type": "stream",
     "text": [
      "   patient   sex agegrp  bp_before  bp_after\n",
      "0        1  Male  30-45        143       153\n",
      "1        2  Male  30-45        163       170\n",
      "2        3  Male  30-45        153       168\n",
      "3        4  Male  30-45        153       142\n",
      "4        5  Male  30-45        146       141\n",
      "        bp_before    bp_after\n",
      "count  120.000000  120.000000\n",
      "mean   156.450000  151.358333\n",
      "std     11.389845   14.177622\n",
      "min    138.000000  125.000000\n",
      "25%    147.000000  140.750000\n",
      "50%    154.500000  149.500000\n",
      "75%    164.000000  161.000000\n",
      "max    185.000000  185.000000\n",
      "0.0011297914644840823\n",
      "pval:  0.0011297914644840823\n",
      "we are reject null hypothesis\n"
     ]
    }
   ],
   "source": [
    "import pandas as pd\n",
    "from scipy import stats\n",
    "df = pd.read_csv('blood_pressure.csv')\n",
    "print(df.head())\n",
    "print(df[['bp_before','bp_after']].describe())\n",
    "ttest,pval = stats.ttest_rel(df['bp_before'],df['bp_after'])\n",
    "print(pval)\n",
    "print('pval: ', pval)\n",
    "if pval < 0.05:\n",
    "    print('we are reject null hypothesis')\n",
    "else:\n",
    "    print('we are accept null hypothesis')"
   ]
  }
 ],
 "metadata": {
  "kernelspec": {
   "display_name": "Python 3",
   "language": "python",
   "name": "python3"
  },
  "language_info": {
   "codemirror_mode": {
    "name": "ipython",
    "version": 3
   },
   "file_extension": ".py",
   "mimetype": "text/x-python",
   "name": "python",
   "nbconvert_exporter": "python",
   "pygments_lexer": "ipython3",
   "version": "3.11.0"
  }
 },
 "nbformat": 4,
 "nbformat_minor": 2
}
